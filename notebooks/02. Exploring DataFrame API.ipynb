{
 "cells": [
  {
   "cell_type": "markdown",
   "metadata": {
    "application/vnd.databricks.v1+cell": {
     "cellMetadata": {},
     "inputWidgets": {},
     "nuid": "dbd081fc-bdfc-4438-b3c4-1f9b4aae56b9",
     "showTitle": false,
     "title": ""
    }
   },
   "source": [
    "# Basic Operations"
   ]
  },
  {
   "cell_type": "markdown",
   "metadata": {
    "application/vnd.databricks.v1+cell": {
     "cellMetadata": {
      "byteLimit": 2048000,
      "rowLimit": 10000
     },
     "inputWidgets": {},
     "nuid": "4ac60840-62bd-4ed4-baca-5872752977bf",
     "showTitle": false,
     "title": ""
    }
   },
   "source": [
    "**Problem Statements**\n",
    "\n",
    "* Display the total count excluding headers\n",
    "* Print the schema\n",
    "* Print the column names\n",
    "* Display top 5 records without truncating the data\n",
    "* Select 'name, col_company as company_name' columns\n"
   ]
  },
  {
   "cell_type": "markdown",
   "metadata": {
    "application/vnd.databricks.v1+cell": {
     "cellMetadata": {},
     "inputWidgets": {},
     "nuid": "0646e518-96dc-4bc5-8acf-a0421fe4521b",
     "showTitle": false,
     "title": ""
    }
   },
   "source": [
    "## Create DataFrame by loading employee.csv"
   ]
  },
  {
   "cell_type": "markdown",
   "metadata": {
    "application/vnd.databricks.v1+cell": {
     "cellMetadata": {},
     "inputWidgets": {},
     "nuid": "4950d55a-6664-4ba8-86d1-938363e44717",
     "showTitle": false,
     "title": ""
    }
   },
   "source": [
    "## Display Records"
   ]
  },
  {
   "cell_type": "markdown",
   "metadata": {
    "application/vnd.databricks.v1+cell": {
     "cellMetadata": {},
     "inputWidgets": {},
     "nuid": "6700d55a-848b-4059-be55-460b8bfa86d1",
     "showTitle": false,
     "title": ""
    }
   },
   "source": [
    "## Print the schema"
   ]
  },
  {
   "cell_type": "markdown",
   "metadata": {
    "application/vnd.databricks.v1+cell": {
     "cellMetadata": {},
     "inputWidgets": {},
     "nuid": "32bd184c-0565-4b8f-9881-8ef0e29f17e9",
     "showTitle": false,
     "title": ""
    }
   },
   "source": [
    "## Print the column names"
   ]
  },
  {
   "cell_type": "markdown",
   "metadata": {
    "application/vnd.databricks.v1+cell": {
     "cellMetadata": {},
     "inputWidgets": {},
     "nuid": "3e081860-b598-45d3-9a84-98c1aa937b39",
     "showTitle": false,
     "title": ""
    }
   },
   "source": [
    "## Select 'name, col_company as company_name' columns"
   ]
  },
  {
   "cell_type": "markdown",
   "metadata": {
    "application/vnd.databricks.v1+cell": {
     "cellMetadata": {},
     "inputWidgets": {},
     "nuid": "c4c98c98-8eef-46f7-a680-b195a741cb57",
     "showTitle": false,
     "title": ""
    }
   },
   "source": [
    "## Attach Custom Schema"
   ]
  },
  {
   "cell_type": "markdown",
   "metadata": {
    "application/vnd.databricks.v1+cell": {
     "cellMetadata": {},
     "inputWidgets": {},
     "nuid": "4633cf04-b568-4788-9c4f-a345ab89613d",
     "showTitle": false,
     "title": ""
    }
   },
   "source": [
    "# Filter Operations"
   ]
  },
  {
   "cell_type": "markdown",
   "metadata": {
    "application/vnd.databricks.v1+cell": {
     "cellMetadata": {},
     "inputWidgets": {},
     "nuid": "c08ab728-dd03-42c0-beb8-7f4b35787228",
     "showTitle": false,
     "title": ""
    }
   },
   "source": [
    "\n",
    "## Filter all records matching the company name 'Cisco' "
   ]
  },
  {
   "cell_type": "markdown",
   "metadata": {
    "application/vnd.databricks.v1+cell": {
     "cellMetadata": {},
     "inputWidgets": {},
     "nuid": "27d89ce3-edfb-4c9e-a0a7-af213304e5b4",
     "showTitle": false,
     "title": ""
    }
   },
   "source": [
    "## Filter out all records whose designation is not 'other'.\n"
   ]
  },
  {
   "cell_type": "markdown",
   "metadata": {
    "application/vnd.databricks.v1+cell": {
     "cellMetadata": {},
     "inputWidgets": {},
     "nuid": "f968694f-f752-4973-965f-9ccecf005477",
     "showTitle": false,
     "title": ""
    }
   },
   "source": [
    "## Filter and display all the records whose designation is 'Developer,R&D Engineer'\n"
   ]
  },
  {
   "cell_type": "markdown",
   "metadata": {
    "application/vnd.databricks.v1+cell": {
     "cellMetadata": {
      "byteLimit": 2048000,
      "rowLimit": 10000
     },
     "inputWidgets": {},
     "nuid": "586a71ba-512a-4a03-9411-5f59657c6459",
     "showTitle": false,
     "title": ""
    }
   },
   "source": [
    "# Derive Column\n",
    "\n",
    "**Problem Statement**\n",
    "Generate a new column named 'category' and populate it based on the values in the 'experience' column? \n",
    "\n",
    "i. experience <=4  category='Junior' <br/>\n",
    "ii. experience >=5 and experience<10 category=\"Mid Level\" <br/>\n",
    "iii, experience > 10 category = \"Senior\"<br/>\n"
   ]
  },
  {
   "cell_type": "code",
   "execution_count": 0,
   "metadata": {
    "application/vnd.databricks.v1+cell": {
     "cellMetadata": {},
     "inputWidgets": {},
     "nuid": "b35e7ca0-501a-46eb-8a48-3b2d1b8b03bc",
     "showTitle": false,
     "title": ""
    }
   },
   "outputs": [],
   "source": []
  },
  {
   "cell_type": "markdown",
   "metadata": {
    "application/vnd.databricks.v1+cell": {
     "cellMetadata": {},
     "inputWidgets": {},
     "nuid": "d8a11b46-1544-4bb1-8624-19be61b9384c",
     "showTitle": false,
     "title": ""
    }
   },
   "source": [
    "# Grouping, Aggregation and Sorting\n",
    "<br/>\n",
    "1. What is the total count for each category?<br/>\n",
    "2. What is the minimum salary for each category?<br/>\n",
    "3. What is the maximum salary for each category?<br/>"
   ]
  },
  {
   "cell_type": "code",
   "execution_count": 0,
   "metadata": {
    "application/vnd.databricks.v1+cell": {
     "cellMetadata": {},
     "inputWidgets": {},
     "nuid": "1a0760bb-8b3f-422b-9c41-f8f69e642525",
     "showTitle": false,
     "title": ""
    }
   },
   "outputs": [],
   "source": []
  }
 ],
 "metadata": {
  "application/vnd.databricks.v1+notebook": {
   "dashboards": [],
   "language": "python",
   "notebookMetadata": {
    "pythonIndentUnit": 2
   },
   "notebookName": "01. Exploring DataFrame API Template",
   "widgets": {}
  }
 },
 "nbformat": 4,
 "nbformat_minor": 0
}
