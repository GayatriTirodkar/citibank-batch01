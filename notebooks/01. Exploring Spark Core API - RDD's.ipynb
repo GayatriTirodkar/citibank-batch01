{
 "cells": [
  {
   "cell_type": "markdown",
   "metadata": {
    "application/vnd.databricks.v1+cell": {
     "cellMetadata": {},
     "inputWidgets": {},
     "nuid": "72881991-bde9-477e-831b-3782d755501c",
     "showTitle": false,
     "title": ""
    }
   },
   "source": [
    "\n",
    "# RDD Creation\n",
    "\n",
    "There are two important ways to create an RDD\n",
    "\n",
    "1. Create an RDD from Collection\n",
    "2. Create an RDD from external data source"
   ]
  },
  {
   "cell_type": "markdown",
   "metadata": {
    "application/vnd.databricks.v1+cell": {
     "cellMetadata": {},
     "inputWidgets": {},
     "nuid": "fe1c9127-990c-4311-9f26-831102d7da8b",
     "showTitle": false,
     "title": ""
    }
   },
   "source": [
    "\n",
    "## Create an RDD from Collection"
   ]
  },
  {
   "cell_type": "code",
   "execution_count": 0,
   "metadata": {
    "application/vnd.databricks.v1+cell": {
     "cellMetadata": {
      "byteLimit": 2048000,
      "rowLimit": 10000
     },
     "inputWidgets": {},
     "nuid": "3048ac3a-41e1-452b-b512-80289382dd95",
     "showTitle": false,
     "title": ""
    }
   },
   "outputs": [],
   "source": []
  },
  {
   "cell_type": "markdown",
   "metadata": {
    "application/vnd.databricks.v1+cell": {
     "cellMetadata": {},
     "inputWidgets": {},
     "nuid": "e27b4e50-ebf3-4a3c-9b34-b8cf5c767036",
     "showTitle": false,
     "title": ""
    }
   },
   "source": [
    "\n",
    "## Create an RDD from External Source"
   ]
  },
  {
   "cell_type": "markdown",
   "metadata": {
    "application/vnd.databricks.v1+cell": {
     "cellMetadata": {},
     "inputWidgets": {},
     "nuid": "9b4ceea6-de6d-40bf-bd0e-4275a578c7ed",
     "showTitle": false,
     "title": ""
    }
   },
   "source": [
    "\n",
    "# Transformations"
   ]
  },
  {
   "cell_type": "markdown",
   "metadata": {
    "application/vnd.databricks.v1+cell": {
     "cellMetadata": {},
     "inputWidgets": {},
     "nuid": "b58e36d6-2f47-4894-abe9-717c04d632c0",
     "showTitle": false,
     "title": ""
    }
   },
   "source": [
    "\n",
    "## The .map(func)\n",
    "\n",
    "> The map(func) returns  a new RDD by applying a function to each of the elements in the original RDD."
   ]
  },
  {
   "cell_type": "code",
   "execution_count": 0,
   "metadata": {
    "application/vnd.databricks.v1+cell": {
     "cellMetadata": {},
     "inputWidgets": {},
     "nuid": "5ec37262-6963-44cd-a44a-9cea14483ac4",
     "showTitle": false,
     "title": ""
    }
   },
   "outputs": [],
   "source": []
  },
  {
   "cell_type": "markdown",
   "metadata": {
    "application/vnd.databricks.v1+cell": {
     "cellMetadata": {},
     "inputWidgets": {},
     "nuid": "5161d401-fc5d-449f-a103-97322c030e6b",
     "showTitle": false,
     "title": ""
    }
   },
   "source": [
    "\n",
    "## The .filter(predFunc)"
   ]
  },
  {
   "cell_type": "markdown",
   "metadata": {
    "application/vnd.databricks.v1+cell": {
     "cellMetadata": {},
     "inputWidgets": {},
     "nuid": "f3dccb00-ea74-46c8-8c21-72419729c278",
     "showTitle": false,
     "title": ""
    }
   },
   "source": [
    "\n",
    "## The reduceByKey()\n",
    "\n",
    "> The reduceByKey() operation applies a function to all values associated with the same key and reduces them to a single value. \n"
   ]
  },
  {
   "cell_type": "code",
   "execution_count": 0,
   "metadata": {
    "application/vnd.databricks.v1+cell": {
     "cellMetadata": {
      "byteLimit": 2048000,
      "rowLimit": 10000
     },
     "inputWidgets": {},
     "nuid": "f09363b8-079f-417c-844d-27dfd77bce7d",
     "showTitle": false,
     "title": ""
    }
   },
   "outputs": [],
   "source": []
  },
  {
   "cell_type": "markdown",
   "metadata": {
    "application/vnd.databricks.v1+cell": {
     "cellMetadata": {},
     "inputWidgets": {},
     "nuid": "96b3273b-3994-4a1a-80fe-d9a60475e0bd",
     "showTitle": false,
     "title": ""
    }
   },
   "source": [
    "\n",
    "# Actions"
   ]
  },
  {
   "cell_type": "markdown",
   "metadata": {
    "application/vnd.databricks.v1+cell": {
     "cellMetadata": {
      "byteLimit": 2048000,
      "rowLimit": 10000
     },
     "inputWidgets": {},
     "nuid": "14e49345-c86a-46af-af4e-8c194cecdf28",
     "showTitle": false,
     "title": ""
    }
   },
   "source": [
    "## The .count()\n",
    "\n",
    "> The .count() action on an RDD is an operation that returns the number of elements of our RDD."
   ]
  },
  {
   "cell_type": "code",
   "execution_count": 0,
   "metadata": {
    "application/vnd.databricks.v1+cell": {
     "cellMetadata": {
      "byteLimit": 2048000,
      "rowLimit": 10000
     },
     "inputWidgets": {},
     "nuid": "0e5cb709-41f6-47bb-bcf5-f50f1748eed1",
     "showTitle": false,
     "title": ""
    }
   },
   "outputs": [],
   "source": []
  },
  {
   "cell_type": "markdown",
   "metadata": {
    "application/vnd.databricks.v1+cell": {
     "cellMetadata": {},
     "inputWidgets": {},
     "nuid": "81558f43-e448-466d-948a-ee8642776f8f",
     "showTitle": false,
     "title": ""
    }
   },
   "source": [
    "## The first()\n",
    "\n",
    "> The .first() action on an RDD returns the first element from our RDD."
   ]
  },
  {
   "cell_type": "code",
   "execution_count": 0,
   "metadata": {
    "application/vnd.databricks.v1+cell": {
     "cellMetadata": {
      "byteLimit": 2048000,
      "rowLimit": 10000
     },
     "inputWidgets": {},
     "nuid": "db7a1c90-a95d-4c2f-bcb4-71843ab13dd8",
     "showTitle": false,
     "title": ""
    }
   },
   "outputs": [],
   "source": []
  },
  {
   "cell_type": "markdown",
   "metadata": {
    "application/vnd.databricks.v1+cell": {
     "cellMetadata": {},
     "inputWidgets": {},
     "nuid": "f05e23d0-7fa6-44c1-8fcb-89a3b297701d",
     "showTitle": false,
     "title": ""
    }
   },
   "source": [
    "\n",
    "## The .take(n)\n",
    "\n",
    "> The .take(n) action on an RDD returns n number of elements from the RDD. The ‘n’ argument takes an integer which refers to the number of elements we want to extract from the RDD."
   ]
  },
  {
   "cell_type": "code",
   "execution_count": 0,
   "metadata": {
    "application/vnd.databricks.v1+cell": {
     "cellMetadata": {
      "byteLimit": 2048000,
      "rowLimit": 10000
     },
     "inputWidgets": {},
     "nuid": "b22f4b3c-0603-4ce8-9088-f4aaa2e447d0",
     "showTitle": false,
     "title": ""
    }
   },
   "outputs": [],
   "source": []
  },
  {
   "cell_type": "markdown",
   "metadata": {
    "application/vnd.databricks.v1+cell": {
     "cellMetadata": {},
     "inputWidgets": {},
     "nuid": "85529d56-78aa-40c5-a35b-a8403b4f0440",
     "showTitle": false,
     "title": ""
    }
   },
   "source": [
    "\n",
    "## The .collect()\n",
    "\n",
    "> The .collect() action on an RDD returns a list of all the elements of the RDD."
   ]
  },
  {
   "cell_type": "code",
   "execution_count": 0,
   "metadata": {
    "application/vnd.databricks.v1+cell": {
     "cellMetadata": {
      "byteLimit": 2048000,
      "rowLimit": 10000
     },
     "inputWidgets": {},
     "nuid": "d2faea0c-a69b-4625-b11e-97e9e7938239",
     "showTitle": false,
     "title": ""
    }
   },
   "outputs": [],
   "source": []
  },
  {
   "cell_type": "markdown",
   "metadata": {
    "application/vnd.databricks.v1+cell": {
     "cellMetadata": {},
     "inputWidgets": {},
     "nuid": "7c93cfe1-d918-424d-be1a-96a3659b4b9b",
     "showTitle": false,
     "title": ""
    }
   },
   "source": [
    "## The .saveAsTextFile\n",
    "\n",
    "> The .saveAsTextFile() Action is used to serve the resultant RDD as a text file."
   ]
  },
  {
   "cell_type": "markdown",
   "metadata": {
    "application/vnd.databricks.v1+cell": {
     "cellMetadata": {},
     "inputWidgets": {},
     "nuid": "e50891ba-e929-400b-8704-183ec7fadd5f",
     "showTitle": false,
     "title": ""
    }
   },
   "source": [
    "## The reduce\n",
    "\n",
    "> The reduce() action returns one element from two elements from RDD by applying lambda function:"
   ]
  },
  {
   "cell_type": "code",
   "execution_count": 0,
   "metadata": {
    "application/vnd.databricks.v1+cell": {
     "cellMetadata": {
      "byteLimit": 2048000,
      "rowLimit": 10000
     },
     "inputWidgets": {},
     "nuid": "4865b460-05ac-4091-999f-a822087720e9",
     "showTitle": false,
     "title": ""
    }
   },
   "outputs": [],
   "source": []
  },
  {
   "cell_type": "code",
   "execution_count": 0,
   "metadata": {
    "application/vnd.databricks.v1+cell": {
     "cellMetadata": {},
     "inputWidgets": {},
     "nuid": "a025e465-f0c6-4bac-8bbd-3ea41704524e",
     "showTitle": false,
     "title": ""
    }
   },
   "outputs": [],
   "source": []
  }
 ],
 "metadata": {
  "application/vnd.databricks.v1+notebook": {
   "dashboards": [],
   "language": "python",
   "notebookMetadata": {
    "pythonIndentUnit": 2
   },
   "notebookName": "Exploring Spark Core API - RDD's - Template",
   "widgets": {}
  }
 },
 "nbformat": 4,
 "nbformat_minor": 0
}
